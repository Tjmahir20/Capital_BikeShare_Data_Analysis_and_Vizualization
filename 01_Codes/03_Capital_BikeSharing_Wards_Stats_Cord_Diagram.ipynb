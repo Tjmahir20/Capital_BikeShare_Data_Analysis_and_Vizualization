{
 "cells": [
  {
   "cell_type": "code",
   "execution_count": 1,
   "id": "ba5114ad-7855-49bc-b8e2-b2edc669d326",
   "metadata": {},
   "outputs": [],
   "source": [
    "import pandas as pd\n",
    "import geopandas as gpd\n",
    "import matplotlib.pyplot as plt\n",
    "import re"
   ]
  },
  {
   "cell_type": "code",
   "execution_count": 2,
   "id": "f005275f-dbe7-4b0b-a229-9660405e3564",
   "metadata": {},
   "outputs": [],
   "source": [
    "XF = pd.read_csv(\"00_Stacked_Dataframe.csv\")"
   ]
  },
  {
   "cell_type": "code",
   "execution_count": 4,
   "id": "7d05f4c9-747c-4170-b807-0d805190a49d",
   "metadata": {},
   "outputs": [
    {
     "data": {
      "text/plain": [
       "(6927165, 16)"
      ]
     },
     "execution_count": 4,
     "metadata": {},
     "output_type": "execute_result"
    }
   ],
   "source": [
    "XF.shape"
   ]
  },
  {
   "cell_type": "code",
   "execution_count": 14,
   "id": "e8a2acef-2ed4-44c3-8371-3dc2dfb3d174",
   "metadata": {},
   "outputs": [],
   "source": [
    "Station_shp = pd.read_csv(\"./XX_Processed_Data/A0_WashingtonDC_StationIDs_01.csv\")"
   ]
  },
  {
   "cell_type": "code",
   "execution_count": 15,
   "id": "d06a3a7a-0886-4857-af00-a45d7b801a96",
   "metadata": {},
   "outputs": [],
   "source": [
    "# Convert the column to datetime\n",
    "XF['started_at'] = pd.to_datetime(XF['started_at'], format='%Y-%m-%d %H:%M:%S')\n",
    "XF['ended_at'] = pd.to_datetime(XF['ended_at'], format='%Y-%m-%d %H:%M:%S')"
   ]
  },
  {
   "cell_type": "code",
   "execution_count": 16,
   "id": "c64740cb-d80a-42dd-a62e-48e4f228bcce",
   "metadata": {},
   "outputs": [
    {
     "name": "stdout",
     "output_type": "stream",
     "text": [
      "<class 'pandas.core.frame.DataFrame'>\n",
      "RangeIndex: 6927165 entries, 0 to 6927164\n",
      "Data columns (total 16 columns):\n",
      " #   Column              Dtype         \n",
      "---  ------              -----         \n",
      " 0   ride_id             object        \n",
      " 1   rideable_type       object        \n",
      " 2   started_at          datetime64[ns]\n",
      " 3   ended_at            datetime64[ns]\n",
      " 4   start_station_name  object        \n",
      " 5   start_station_id    int64         \n",
      " 6   end_station_name    object        \n",
      " 7   end_station_id      int64         \n",
      " 8   start_lat           float64       \n",
      " 9   start_lng           float64       \n",
      " 10  end_lat             float64       \n",
      " 11  end_lng             float64       \n",
      " 12  member_casual       object        \n",
      " 13  Hour_(Starting)     int64         \n",
      " 14  Year                int64         \n",
      " 15  StationID_YearHour  object        \n",
      "dtypes: datetime64[ns](2), float64(4), int64(4), object(6)\n",
      "memory usage: 845.6+ MB\n"
     ]
    }
   ],
   "source": [
    "XF.info()"
   ]
  },
  {
   "cell_type": "code",
   "execution_count": 17,
   "id": "adeab5af-3565-4ad7-9e54-12eff78d075e",
   "metadata": {},
   "outputs": [],
   "source": [
    "XF[\"start_station_id\"] = XF[\"start_station_id\"].astype(str)\n",
    "XF[\"end_station_id\"] = XF[\"end_station_id\"].astype(str)"
   ]
  },
  {
   "cell_type": "code",
   "execution_count": 18,
   "id": "d65e7091-91f0-47ca-9f3d-446f0ec455b7",
   "metadata": {},
   "outputs": [],
   "source": [
    "XF[\"Station_ID\"] = XF[\"start_station_id\"]"
   ]
  },
  {
   "cell_type": "markdown",
   "id": "14dbe058-0b66-4279-b821-4717ac753f4c",
   "metadata": {},
   "source": [
    "### Adding Season Column"
   ]
  },
  {
   "cell_type": "code",
   "execution_count": 46,
   "id": "8862273c-a976-45cf-91c7-b707a084c765",
   "metadata": {},
   "outputs": [],
   "source": [
    "# Convert the column to datetime\n",
    "XF['started_at'] = pd.to_datetime(XF['started_at'], format='%Y-%m-%d %H:%M:%S')\n",
    "XF['ended_at'] = pd.to_datetime(XF['ended_at'], format='%Y-%m-%d %H:%M:%S')"
   ]
  },
  {
   "cell_type": "code",
   "execution_count": 47,
   "id": "ea430851-d40d-4f16-b7a0-ffd08058cba8",
   "metadata": {},
   "outputs": [],
   "source": [
    "filt = (XF[\"started_at\"].dt.month >= 3) & (XF['started_at'].dt.month <= 5)\n",
    "XF.loc[filt,\"Season\"] = \"Spring\""
   ]
  },
  {
   "cell_type": "code",
   "execution_count": 48,
   "id": "3bf90dd9-b87c-4ae5-adf1-b4d52adcdae6",
   "metadata": {},
   "outputs": [],
   "source": [
    "filt = (XF[\"started_at\"].dt.month >= 6) & (XF['started_at'].dt.month <= 8)\n",
    "XF.loc[filt,\"Season\"] = \"Summer\""
   ]
  },
  {
   "cell_type": "code",
   "execution_count": 49,
   "id": "bf39ec21-954c-45d3-aa91-3dd9ef09d142",
   "metadata": {},
   "outputs": [],
   "source": [
    "filt = (XF[\"started_at\"].dt.month >= 9) & (XF['started_at'].dt.month <= 11)\n",
    "XF.loc[filt,\"Season\"] = \"Fall\""
   ]
  },
  {
   "cell_type": "code",
   "execution_count": 50,
   "id": "a517a147-1a4a-4a9b-8d6c-7d3c576333c8",
   "metadata": {},
   "outputs": [],
   "source": [
    "filt1 = (XF[\"started_at\"].dt.month >= 2)\n",
    "filt2 = (XF['started_at'].dt.month == 12)\n",
    "filt = filt1 & filt2\n",
    "\n",
    "XF.loc[filt,\"Season\"] = \"Winter\""
   ]
  },
  {
   "cell_type": "code",
   "execution_count": 51,
   "id": "7f78814b-24a7-44ef-96d3-7b4ac351e02d",
   "metadata": {},
   "outputs": [],
   "source": [
    "XF[\"Season\"] = XF[\"Season\"].fillna(\"Winter\")"
   ]
  },
  {
   "cell_type": "markdown",
   "id": "673fb8cc-140d-4bfa-9aed-f575eb855029",
   "metadata": {},
   "source": [
    "## Creating Day Type Column"
   ]
  },
  {
   "cell_type": "code",
   "execution_count": 52,
   "id": "41e3c482-3d94-4f8d-9d2c-099d15d2c232",
   "metadata": {},
   "outputs": [],
   "source": [
    "# Define a function to label each date as weekday or weekend\n",
    "def categorize_weekday_or_weekend(date):\n",
    "    if date.weekday() < 5:  # 0-4 represent Monday to Friday (weekdays)\n",
    "        return 'Weekday'\n",
    "    else:\n",
    "        return 'Weekend'\n",
    "\n",
    "# Apply the function to create a new column 'Day_Type'\n",
    "XF['Day_Type'] = XF['started_at'].apply(categorize_weekday_or_weekend)"
   ]
  },
  {
   "cell_type": "markdown",
   "id": "7d766c41-6c60-4e27-a610-02b80c7e2441",
   "metadata": {},
   "source": [
    "## Merging Two DataFrames"
   ]
  },
  {
   "cell_type": "code",
   "execution_count": 53,
   "id": "61502692-1276-476a-a9d3-23b86edfd992",
   "metadata": {},
   "outputs": [],
   "source": [
    "Station_shp['Station_ID'] = Station_shp['Station_ID'].astype(str)"
   ]
  },
  {
   "cell_type": "code",
   "execution_count": 54,
   "id": "cf38fd3c-d08b-443b-b21d-0d9e8aea62ca",
   "metadata": {},
   "outputs": [],
   "source": [
    "# Merge the DataFrames based on the common fields 'ID'\n",
    "merged_df = pd.merge(XF, Station_shp, on='Station_ID')"
   ]
  },
  {
   "cell_type": "code",
   "execution_count": 55,
   "id": "02d50c81-22c0-455a-9334-68126c22ca1b",
   "metadata": {},
   "outputs": [
    {
     "data": {
      "text/plain": [
       "Index(['ride_id', 'rideable_type', 'started_at', 'ended_at',\n",
       "       'start_station_name', 'start_station_id', 'end_station_name',\n",
       "       'end_station_id', 'start_lat_x', 'start_lng_x', 'end_lat', 'end_lng',\n",
       "       'member_casual', 'Hour_(Starting)', 'Year', 'StationID_YearHour',\n",
       "       'Station_ID', 'Season', 'Day_Type', 'start_station', 'start_lat_y',\n",
       "       'start_lng_y', 'Neighb_Cls', 'Ward'],\n",
       "      dtype='object')"
      ]
     },
     "execution_count": 55,
     "metadata": {},
     "output_type": "execute_result"
    }
   ],
   "source": [
    "merged_df.columns"
   ]
  },
  {
   "cell_type": "markdown",
   "id": "b9add20a-b05c-473f-b3d7-e2f5875fe174",
   "metadata": {},
   "source": [
    "### Mapping New Column for Matching StationID with Wards"
   ]
  },
  {
   "cell_type": "code",
   "execution_count": 56,
   "id": "289ff613-fd2d-4ec9-8bfb-7a7d2a29ad04",
   "metadata": {},
   "outputs": [
    {
     "data": {
      "text/plain": [
       "8"
      ]
     },
     "execution_count": 56,
     "metadata": {},
     "output_type": "execute_result"
    }
   ],
   "source": [
    "len(Station_shp[\"Ward\"].unique())"
   ]
  },
  {
   "cell_type": "code",
   "execution_count": 57,
   "id": "2fd5d65d-fde7-4408-bd10-ef54a2c36a6c",
   "metadata": {},
   "outputs": [],
   "source": [
    "# # Convert two columns to a dictionary\n",
    "mapping  = dict(zip(Station_shp['Station_ID'], Station_shp['Ward']))"
   ]
  },
  {
   "cell_type": "code",
   "execution_count": 58,
   "id": "145185c9-9326-433c-87c6-89de5c8be32c",
   "metadata": {},
   "outputs": [],
   "source": [
    "# Apply the mapping code to create the 'Start Neighborhood' column\n",
    "merged_df['Start Ward'] = merged_df['start_station_id'].apply(lambda x: mapping.get(x, x))"
   ]
  },
  {
   "cell_type": "code",
   "execution_count": 59,
   "id": "9f61c5f3-b593-4ec3-b777-e4169ab328eb",
   "metadata": {},
   "outputs": [],
   "source": [
    "# Apply the mapping code to create the 'Start Neighborhood' column\n",
    "merged_df['End Ward'] = merged_df['end_station_id'].apply(lambda x: mapping.get(x, x))"
   ]
  },
  {
   "cell_type": "code",
   "execution_count": 60,
   "id": "97035f96-a5c5-418a-afba-65b5c0654046",
   "metadata": {},
   "outputs": [
    {
     "data": {
      "text/plain": [
       "(6128884, 26)"
      ]
     },
     "execution_count": 60,
     "metadata": {},
     "output_type": "execute_result"
    }
   ],
   "source": [
    "merged_df.shape"
   ]
  },
  {
   "cell_type": "code",
   "execution_count": 61,
   "id": "88a77b98-8dfc-47d9-8788-7a3a25d9a014",
   "metadata": {},
   "outputs": [
    {
     "data": {
      "text/plain": [
       "Ward 2    2807477\n",
       "Ward 6    1612624\n",
       "Ward 1     763532\n",
       "Ward 5     380025\n",
       "Ward 8     136576\n",
       "           ...   \n",
       "32251           1\n",
       "32090           1\n",
       "32205           1\n",
       "32241           1\n",
       "32268           1\n",
       "Name: End Ward, Length: 338, dtype: int64"
      ]
     },
     "execution_count": 61,
     "metadata": {},
     "output_type": "execute_result"
    }
   ],
   "source": [
    "merged_df[\"End Ward\"].value_counts()"
   ]
  },
  {
   "cell_type": "code",
   "execution_count": 62,
   "id": "495bdcc8-bf47-4eec-b14c-cf0d22ef3ef9",
   "metadata": {},
   "outputs": [
    {
     "data": {
      "text/plain": [
       "8"
      ]
     },
     "execution_count": 62,
     "metadata": {},
     "output_type": "execute_result"
    }
   ],
   "source": [
    "len(merged_df[\"Start Ward\"].unique())"
   ]
  },
  {
   "cell_type": "code",
   "execution_count": 63,
   "id": "f584e433-b903-4aa4-a5ab-7bc47f88ddc2",
   "metadata": {},
   "outputs": [
    {
     "data": {
      "text/plain": [
       "338"
      ]
     },
     "execution_count": 63,
     "metadata": {},
     "output_type": "execute_result"
    }
   ],
   "source": [
    "len(merged_df[\"End Ward\"].unique())"
   ]
  },
  {
   "cell_type": "code",
   "execution_count": 64,
   "id": "5c284191-76d1-4886-9b36-37818486d4cf",
   "metadata": {},
   "outputs": [
    {
     "data": {
      "text/plain": [
       "['Ward 6',\n",
       " 'Ward 2',\n",
       " 'Ward 1',\n",
       " 'Ward 5',\n",
       " 'Ward 8',\n",
       " 'Ward 4',\n",
       " 'Ward 3',\n",
       " 'Ward 7']"
      ]
     },
     "execution_count": 64,
     "metadata": {},
     "output_type": "execute_result"
    }
   ],
   "source": [
    "Ward = list (Station_shp['Ward'].unique())\n",
    "Ward"
   ]
  },
  {
   "cell_type": "code",
   "execution_count": 65,
   "id": "45e8e335-99d4-4251-bcfd-7fd0e2c6b71c",
   "metadata": {},
   "outputs": [],
   "source": [
    "# Filter rows where 'Column1' starts with \"cluster\"\n",
    "filtered_df = merged_df[merged_df['End Ward'].str.startswith('Ward')]"
   ]
  },
  {
   "cell_type": "markdown",
   "id": "7e7d4508-4419-4acc-bf1a-2b7fc0e178a9",
   "metadata": {},
   "source": [
    "### Based on All Seasons"
   ]
  },
  {
   "cell_type": "code",
   "execution_count": 69,
   "id": "ad5daced-bfc0-4687-8812-90e3d09b4f5d",
   "metadata": {},
   "outputs": [
    {
     "data": {
      "text/plain": [
       "Start Ward  End Ward\n",
       "Ward 1      Ward 1      292969\n",
       "            Ward 2      418332\n",
       "            Ward 3       27786\n",
       "            Ward 4       31609\n",
       "            Ward 5       44195\n",
       "                         ...  \n",
       "Ward 8      Ward 4         233\n",
       "            Ward 5        4232\n",
       "            Ward 6       63462\n",
       "            Ward 7        4268\n",
       "            Ward 8       30143\n",
       "Length: 64, dtype: int64"
      ]
     },
     "execution_count": 69,
     "metadata": {},
     "output_type": "execute_result"
    }
   ],
   "source": [
    "trips = filtered_df.groupby(['Start Ward', 'End Ward']).size() \n",
    "trips"
   ]
  },
  {
   "cell_type": "code",
   "execution_count": 70,
   "id": "391fbceb-4992-470c-b2aa-427642164eae",
   "metadata": {},
   "outputs": [],
   "source": [
    "Ward = list (Station_shp['Ward'].unique())"
   ]
  },
  {
   "cell_type": "code",
   "execution_count": 40,
   "id": "28c8abbf-3886-44bc-9937-543669f84847",
   "metadata": {},
   "outputs": [
    {
     "data": {
      "text/plain": [
       "8"
      ]
     },
     "execution_count": 40,
     "metadata": {},
     "output_type": "execute_result"
    }
   ],
   "source": [
    "len(Ward)"
   ]
  },
  {
   "cell_type": "code",
   "execution_count": 41,
   "id": "96363771-4ea2-41b0-b478-513844f6393c",
   "metadata": {},
   "outputs": [],
   "source": [
    "matrix = [[trips.get(k, {}).get(kk, 0) for kk in Ward] for k in Ward]"
   ]
  },
  {
   "cell_type": "code",
   "execution_count": 42,
   "id": "fbf1e162-cfd3-489e-a551-ca96b05c3152",
   "metadata": {},
   "outputs": [
    {
     "data": {
      "text/plain": [
       "[[876686, 405610, 47692, 115776, 75286, 3299, 2320, 41197],\n",
       " [430729, 1786418, 312402, 86895, 17437, 16043, 29242, 7777],\n",
       " [65860, 418332, 292969, 44195, 2511, 31609, 27786, 1311],\n",
       " [125335, 96531, 40753, 112529, 5535, 8871, 1008, 5524],\n",
       " [63462, 13923, 1603, 4232, 30143, 233, 99, 4268],\n",
       " [5646, 26026, 34484, 9655, 244, 33503, 2411, 136],\n",
       " [4231, 52335, 32770, 1660, 266, 2236, 59624, 99],\n",
       " [40675, 8302, 859, 5083, 5154, 133, 54, 20314]]"
      ]
     },
     "execution_count": 42,
     "metadata": {},
     "output_type": "execute_result"
    }
   ],
   "source": [
    "matrix"
   ]
  },
  {
   "cell_type": "markdown",
   "id": "fc0e2920-1f40-484b-8d7f-bac48c678607",
   "metadata": {},
   "source": [
    "### Based on Separate Seasons"
   ]
  },
  {
   "cell_type": "code",
   "execution_count": 78,
   "id": "4b94ec60-4844-4abc-84bb-5eca9254cf04",
   "metadata": {},
   "outputs": [
    {
     "data": {
      "text/plain": [
       "Start Ward  End Ward\n",
       "Ward 1      Ward 1      102382\n",
       "            Ward 2      137049\n",
       "            Ward 3        9554\n",
       "            Ward 4       11288\n",
       "            Ward 5       15017\n",
       "                         ...  \n",
       "Ward 8      Ward 4         101\n",
       "            Ward 5        1531\n",
       "            Ward 6       23823\n",
       "            Ward 7        1656\n",
       "            Ward 8       11498\n",
       "Length: 64, dtype: int64"
      ]
     },
     "execution_count": 80,
     "metadata": {},
     "output_type": "execute_result"
    }
   ],
   "source": [
    "DF = filtered_df.groupby([\"Season\"]).get_group(\"Fall\")\n",
    "trips = DF.groupby(['Start Ward', 'End Ward']).size() \n",
    "trips"
   ]
  },
  {
   "cell_type": "code",
   "execution_count": 79,
   "id": "4e86c556-7b07-4ef6-85ea-b9334e29f502",
   "metadata": {},
   "outputs": [
    {
     "data": {
      "text/plain": [
       "[[[222461, 101565, 12389, 28721, 18237, 802, 553, 10807],\n",
       "  [108546, 452644, 79722, 21161, 4253, 3861, 7451, 2206],\n",
       "  [16915, 105436, 69711, 10821, 583, 7621, 6820, 365],\n",
       "  [31261, 23269, 10040, 26866, 1358, 2143, 245, 1414],\n",
       "  [14886, 3222, 357, 988, 7189, 32, 25, 1083],\n",
       "  [1420, 6548, 8722, 2309, 56, 8133, 618, 34],\n",
       "  [1083, 14470, 8585, 453, 63, 592, 16728, 20],\n",
       "  [10575, 2335, 240, 1352, 1344, 19, 9, 4648]]]"
      ]
     },
     "execution_count": 79,
     "metadata": {},
     "output_type": "execute_result"
    }
   ],
   "source": [
    "matrix = [[[trips.get(k, {}).get(kk, 0) for kk in Ward] for k in Ward]]\n",
    "matrix"
   ]
  },
  {
   "cell_type": "code",
   "execution_count": 81,
   "id": "0b3f1a14-c91b-41f5-85c8-ce3bf9b49921",
   "metadata": {},
   "outputs": [
    {
     "data": {
      "text/plain": [
       "Start Ward  End Ward\n",
       "Ward 1      Ward 1      102382\n",
       "            Ward 2      137049\n",
       "            Ward 3        9554\n",
       "            Ward 4       11288\n",
       "            Ward 5       15017\n",
       "                         ...  \n",
       "Ward 8      Ward 4         101\n",
       "            Ward 5        1531\n",
       "            Ward 6       23823\n",
       "            Ward 7        1656\n",
       "            Ward 8       11498\n",
       "Length: 64, dtype: int64"
      ]
     },
     "execution_count": 81,
     "metadata": {},
     "output_type": "execute_result"
    }
   ],
   "source": [
    "DF = filtered_df.groupby([\"Season\"]).get_group(\"Summer\")\n",
    "trips = DF.groupby(['Start Ward', 'End Ward']).size() \n",
    "trips"
   ]
  },
  {
   "cell_type": "code",
   "execution_count": 82,
   "id": "34f6c622-4c6a-408c-892f-b3f584aa326b",
   "metadata": {},
   "outputs": [
    {
     "data": {
      "text/plain": [
       "[[[297472, 140201, 16341, 38133, 28052, 1212, 855, 14051],\n",
       "  [149140, 614838, 102854, 28865, 6499, 5540, 10551, 2488],\n",
       "  [23037, 137049, 102382, 15017, 994, 11288, 9554, 430],\n",
       "  [41292, 31641, 13430, 38509, 1974, 3050, 355, 1866],\n",
       "  [23823, 5182, 637, 1531, 11498, 101, 45, 1656],\n",
       "  [2040, 9028, 12214, 3372, 94, 12528, 818, 55],\n",
       "  [1589, 18100, 10979, 506, 102, 799, 20500, 33],\n",
       "  [13902, 2494, 290, 1621, 1904, 54, 16, 7746]]]"
      ]
     },
     "execution_count": 82,
     "metadata": {},
     "output_type": "execute_result"
    }
   ],
   "source": [
    "matrix = [[[trips.get(k, {}).get(kk, 0) for kk in Ward] for k in Ward]]\n",
    "matrix"
   ]
  },
  {
   "cell_type": "code",
   "execution_count": 83,
   "id": "0227ea09-3e57-40ca-adbd-bd3f1bf2c583",
   "metadata": {},
   "outputs": [
    {
     "data": {
      "text/plain": [
       "Start Ward  End Ward\n",
       "Ward 1      Ward 1      47738\n",
       "            Ward 2      68184\n",
       "            Ward 3       4262\n",
       "            Ward 4       4525\n",
       "            Ward 5       6832\n",
       "                        ...  \n",
       "Ward 8      Ward 4         28\n",
       "            Ward 5        564\n",
       "            Ward 6       8001\n",
       "            Ward 7        415\n",
       "            Ward 8       3820\n",
       "Length: 64, dtype: int64"
      ]
     },
     "execution_count": 83,
     "metadata": {},
     "output_type": "execute_result"
    }
   ],
   "source": [
    "DF = filtered_df.groupby([\"Season\"]).get_group(\"Winter\")\n",
    "trips = DF.groupby(['Start Ward', 'End Ward']).size() \n",
    "trips"
   ]
  },
  {
   "cell_type": "code",
   "execution_count": 84,
   "id": "a428711b-631a-43ac-bfc5-4336a22b5f27",
   "metadata": {},
   "outputs": [
    {
     "data": {
      "text/plain": [
       "[[[129223, 51584, 6508, 18105, 9315, 394, 305, 6109],\n",
       "  [54170, 241030, 47980, 13301, 1684, 2025, 3608, 1024],\n",
       "  [9078, 68184, 47738, 6832, 230, 4525, 4262, 185],\n",
       "  [20037, 15168, 6466, 17079, 743, 1301, 117, 809],\n",
       "  [8001, 1446, 151, 564, 3820, 28, 11, 415],\n",
       "  [728, 3452, 4868, 1446, 28, 4640, 322, 17],\n",
       "  [484, 7070, 5168, 263, 29, 271, 8739, 24],\n",
       "  [5981, 1201, 111, 754, 546, 13, 8, 2695]]]"
      ]
     },
     "execution_count": 84,
     "metadata": {},
     "output_type": "execute_result"
    }
   ],
   "source": [
    "matrix = [[[trips.get(k, {}).get(kk, 0) for kk in Ward] for k in Ward]]\n",
    "matrix"
   ]
  },
  {
   "cell_type": "code",
   "execution_count": 87,
   "id": "a33704b6-02ee-4171-90ed-355fc31055ad",
   "metadata": {},
   "outputs": [
    {
     "data": {
      "text/plain": [
       "Start Ward  End Ward\n",
       "Ward 1      Ward 1       73138\n",
       "            Ward 2      107663\n",
       "            Ward 3        7150\n",
       "            Ward 4        8175\n",
       "            Ward 5       11525\n",
       "                         ...  \n",
       "Ward 8      Ward 4          72\n",
       "            Ward 5        1149\n",
       "            Ward 6       16752\n",
       "            Ward 7        1114\n",
       "            Ward 8        7636\n",
       "Length: 64, dtype: int64"
      ]
     },
     "execution_count": 87,
     "metadata": {},
     "output_type": "execute_result"
    }
   ],
   "source": [
    "DF = filtered_df.groupby([\"Season\"]).get_group(\"Spring\")\n",
    "trips = DF.groupby(['Start Ward', 'End Ward']).size() \n",
    "trips"
   ]
  },
  {
   "cell_type": "code",
   "execution_count": 88,
   "id": "11759db5-5850-43bc-a0c7-c137a2bca5dc",
   "metadata": {},
   "outputs": [
    {
     "data": {
      "text/plain": [
       "[[[227530, 112260, 12454, 30817, 19682, 891, 607, 10230],\n",
       "  [118873, 477906, 81846, 23568, 5001, 4617, 7632, 2059],\n",
       "  [16830, 107663, 73138, 11525, 704, 8175, 7150, 331],\n",
       "  [32745, 26453, 10817, 30075, 1460, 2377, 291, 1435],\n",
       "  [16752, 4073, 458, 1149, 7636, 72, 18, 1114],\n",
       "  [1458, 6998, 8680, 2528, 66, 8202, 653, 30],\n",
       "  [1075, 12695, 8038, 438, 72, 574, 13657, 22],\n",
       "  [10217, 2272, 218, 1356, 1360, 47, 21, 5225]]]"
      ]
     },
     "execution_count": 88,
     "metadata": {},
     "output_type": "execute_result"
    }
   ],
   "source": [
    "matrix = [[[trips.get(k, {}).get(kk, 0) for kk in Ward] for k in Ward]]\n",
    "matrix"
   ]
  },
  {
   "cell_type": "code",
   "execution_count": null,
   "id": "9f3d9f96-505b-4ebf-b8ea-76209de09adb",
   "metadata": {},
   "outputs": [],
   "source": []
  }
 ],
 "metadata": {
  "kernelspec": {
   "display_name": "Python",
   "language": "python",
   "name": "python3"
  },
  "language_info": {
   "codemirror_mode": {
    "name": "ipython",
    "version": 3
   },
   "file_extension": ".py",
   "mimetype": "text/x-python",
   "name": "python",
   "nbconvert_exporter": "python",
   "pygments_lexer": "ipython3",
   "version": "3.8.10"
  }
 },
 "nbformat": 4,
 "nbformat_minor": 5
}
