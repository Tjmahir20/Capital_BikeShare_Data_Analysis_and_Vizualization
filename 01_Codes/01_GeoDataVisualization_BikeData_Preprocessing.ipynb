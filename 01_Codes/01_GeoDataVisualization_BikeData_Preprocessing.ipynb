{
 "cells": [
  {
   "cell_type": "code",
   "execution_count": 1,
   "id": "a98d940b",
   "metadata": {},
   "outputs": [],
   "source": [
    "import os\n",
    "import pandas as pd\n",
    "import numpy as np"
   ]
  },
  {
   "cell_type": "code",
   "execution_count": 2,
   "id": "9decdad6",
   "metadata": {},
   "outputs": [],
   "source": [
    "# !pip show pandas"
   ]
  },
  {
   "cell_type": "code",
   "execution_count": 3,
   "id": "dbe3048f",
   "metadata": {},
   "outputs": [],
   "source": [
    "# Specify the directory path you want to check\n",
    "directory_path = \"E:/ITC Twente/Quarter 05 September 2023/00 GeoData Visualization/4_BikeShareData/00_Data\"\n",
    "\n",
    "# List all files in the specified directory\n",
    "file_names = os.listdir(directory_path)\n",
    "\n",
    "names = []\n",
    "# Print the file names\n",
    "for i in file_names:\n",
    "    x = os.path.join(directory_path,i)\n",
    "    names.append(x)"
   ]
  },
  {
   "cell_type": "code",
   "execution_count": 4,
   "id": "615152fe",
   "metadata": {},
   "outputs": [],
   "source": [
    "DataFrames = []\n",
    "for i in names:\n",
    "    DF = pd.read_csv(i)\n",
    "    DataFrames.append(DF)"
   ]
  },
  {
   "cell_type": "code",
   "execution_count": 5,
   "id": "2f9747b4",
   "metadata": {},
   "outputs": [],
   "source": [
    "columns = []\n",
    "rows = []\n",
    "for i in DataFrames:\n",
    "    x = len(i.columns)\n",
    "    ss = i.shape\n",
    "    y = ss[0]\n",
    "    columns.append(x)\n",
    "    rows.append(y)"
   ]
  },
  {
   "cell_type": "code",
   "execution_count": 6,
   "id": "843bc70f",
   "metadata": {},
   "outputs": [
    {
     "data": {
      "text/html": [
       "<div>\n",
       "<style scoped>\n",
       "    .dataframe tbody tr th:only-of-type {\n",
       "        vertical-align: middle;\n",
       "    }\n",
       "\n",
       "    .dataframe tbody tr th {\n",
       "        vertical-align: top;\n",
       "    }\n",
       "\n",
       "    .dataframe thead th {\n",
       "        text-align: right;\n",
       "    }\n",
       "</style>\n",
       "<table border=\"1\" class=\"dataframe\">\n",
       "  <thead>\n",
       "    <tr style=\"text-align: right;\">\n",
       "      <th></th>\n",
       "      <th>Name</th>\n",
       "      <th>columns</th>\n",
       "      <th>rows</th>\n",
       "    </tr>\n",
       "  </thead>\n",
       "  <tbody>\n",
       "    <tr>\n",
       "      <th>0</th>\n",
       "      <td>202107-capitalbikeshare-tripdata.csv</td>\n",
       "      <td>13</td>\n",
       "      <td>312426</td>\n",
       "    </tr>\n",
       "    <tr>\n",
       "      <th>1</th>\n",
       "      <td>202108-capitalbikeshare-tripdata.csv</td>\n",
       "      <td>13</td>\n",
       "      <td>271994</td>\n",
       "    </tr>\n",
       "    <tr>\n",
       "      <th>2</th>\n",
       "      <td>202109-capitalbikeshare-tripdata.csv</td>\n",
       "      <td>13</td>\n",
       "      <td>309197</td>\n",
       "    </tr>\n",
       "    <tr>\n",
       "      <th>3</th>\n",
       "      <td>202110-capitalbikeshare-tripdata.csv</td>\n",
       "      <td>13</td>\n",
       "      <td>328300</td>\n",
       "    </tr>\n",
       "    <tr>\n",
       "      <th>4</th>\n",
       "      <td>202111-capitalbikeshare-tripdata.csv</td>\n",
       "      <td>13</td>\n",
       "      <td>242057</td>\n",
       "    </tr>\n",
       "  </tbody>\n",
       "</table>\n",
       "</div>"
      ],
      "text/plain": [
       "                                   Name  columns    rows\n",
       "0  202107-capitalbikeshare-tripdata.csv       13  312426\n",
       "1  202108-capitalbikeshare-tripdata.csv       13  271994\n",
       "2  202109-capitalbikeshare-tripdata.csv       13  309197\n",
       "3  202110-capitalbikeshare-tripdata.csv       13  328300\n",
       "4  202111-capitalbikeshare-tripdata.csv       13  242057"
      ]
     },
     "execution_count": 6,
     "metadata": {},
     "output_type": "execute_result"
    }
   ],
   "source": [
    "# Create a DataFrame from the lists\n",
    "data = {'Name': file_names, 'columns': columns, 'rows': rows}\n",
    "df = pd.DataFrame(data)\n",
    "df.head(5)"
   ]
  },
  {
   "cell_type": "code",
   "execution_count": 7,
   "id": "5d25e528",
   "metadata": {},
   "outputs": [
    {
     "data": {
      "text/plain": [
       "7551988"
      ]
     },
     "execution_count": 7,
     "metadata": {},
     "output_type": "execute_result"
    }
   ],
   "source": [
    "sum(data[\"rows\"])"
   ]
  },
  {
   "cell_type": "markdown",
   "id": "1b0d2b1f",
   "metadata": {},
   "source": [
    "### 1.1 Concatenating Dataframes"
   ]
  },
  {
   "cell_type": "code",
   "execution_count": 8,
   "id": "03512a59",
   "metadata": {},
   "outputs": [],
   "source": [
    "# Concatenate them vertically\n",
    "\n",
    "## Create an empty DataFrame with columns\n",
    "Stacked_DF = pd.DataFrame(columns=DataFrames[0].columns)\n",
    "\n",
    "for i in range(len(DataFrames)):\n",
    "    Stacked_DF = pd.concat([Stacked_DF, DataFrames[i]], axis=0)"
   ]
  },
  {
   "cell_type": "code",
   "execution_count": 9,
   "id": "205d2bb7",
   "metadata": {},
   "outputs": [
    {
     "data": {
      "text/plain": [
       "(7551988, 13)"
      ]
     },
     "execution_count": 9,
     "metadata": {},
     "output_type": "execute_result"
    }
   ],
   "source": [
    "Stacked_DF.shape"
   ]
  },
  {
   "cell_type": "code",
   "execution_count": 10,
   "id": "166b5594",
   "metadata": {},
   "outputs": [
    {
     "name": "stdout",
     "output_type": "stream",
     "text": [
      "<class 'pandas.core.frame.DataFrame'>\n",
      "Index: 7551988 entries, 0 to 466421\n",
      "Data columns (total 13 columns):\n",
      " #   Column              Dtype  \n",
      "---  ------              -----  \n",
      " 0   ride_id             object \n",
      " 1   rideable_type       object \n",
      " 2   started_at          object \n",
      " 3   ended_at            object \n",
      " 4   start_station_name  object \n",
      " 5   start_station_id    float64\n",
      " 6   end_station_name    object \n",
      " 7   end_station_id      float64\n",
      " 8   start_lat           float64\n",
      " 9   start_lng           float64\n",
      " 10  end_lat             float64\n",
      " 11  end_lng             float64\n",
      " 12  member_casual       object \n",
      "dtypes: float64(6), object(7)\n",
      "memory usage: 806.6+ MB\n"
     ]
    }
   ],
   "source": [
    "Stacked_DF.info()"
   ]
  },
  {
   "cell_type": "markdown",
   "id": "d256d04b",
   "metadata": {},
   "source": [
    "### 1.2 Converting DataTime"
   ]
  },
  {
   "cell_type": "code",
   "execution_count": 11,
   "id": "97ea14a0",
   "metadata": {},
   "outputs": [
    {
     "data": {
      "text/plain": [
       "Index(['ride_id', 'rideable_type', 'started_at', 'ended_at',\n",
       "       'start_station_name', 'start_station_id', 'end_station_name',\n",
       "       'end_station_id', 'start_lat', 'start_lng', 'end_lat', 'end_lng',\n",
       "       'member_casual'],\n",
       "      dtype='object')"
      ]
     },
     "execution_count": 11,
     "metadata": {},
     "output_type": "execute_result"
    }
   ],
   "source": [
    "Stacked_DF.columns"
   ]
  },
  {
   "cell_type": "code",
   "execution_count": 12,
   "id": "6b13f980",
   "metadata": {},
   "outputs": [],
   "source": [
    "# Convert the column to datetime\n",
    "Stacked_DF['started_at'] = pd.to_datetime(Stacked_DF['started_at'], format='%Y-%m-%d %H:%M:%S')\n",
    "Stacked_DF['ended_at'] = pd.to_datetime(Stacked_DF['ended_at'], format='%Y-%m-%d %H:%M:%S')"
   ]
  },
  {
   "cell_type": "code",
   "execution_count": 13,
   "id": "a539013e",
   "metadata": {},
   "outputs": [],
   "source": [
    "Stacked_DF['Hour_(Starting)'] = Stacked_DF['started_at'].dt.hour\n",
    "Stacked_DF['Year'] = Stacked_DF['started_at'].dt.year"
   ]
  },
  {
   "cell_type": "code",
   "execution_count": 14,
   "id": "651a5325",
   "metadata": {},
   "outputs": [
    {
     "data": {
      "text/plain": [
       "array([21, 16, 15, 11, 12, 19, 10,  8, 13, 18, 23, 14, 20, 17,  6,  2,  0,\n",
       "        7,  1,  9, 22,  5,  3,  4])"
      ]
     },
     "execution_count": 14,
     "metadata": {},
     "output_type": "execute_result"
    }
   ],
   "source": [
    "Stacked_DF['Hour_(Starting)'].unique()"
   ]
  },
  {
   "cell_type": "code",
   "execution_count": 15,
   "id": "d2d202c9",
   "metadata": {},
   "outputs": [
    {
     "data": {
      "text/plain": [
       "array([2021, 2022, 2023])"
      ]
     },
     "execution_count": 15,
     "metadata": {},
     "output_type": "execute_result"
    }
   ],
   "source": [
    "Stacked_DF['Year'].unique()"
   ]
  },
  {
   "cell_type": "markdown",
   "id": "21c9332f",
   "metadata": {},
   "source": [
    "#### Droping nan Values "
   ]
  },
  {
   "cell_type": "code",
   "execution_count": 16,
   "id": "45a94125",
   "metadata": {},
   "outputs": [],
   "source": [
    "# Drop rows with NaN values only in specific columns\n",
    "Stacked_DF = Stacked_DF.dropna(subset=['start_station_id', 'end_station_id'])"
   ]
  },
  {
   "cell_type": "code",
   "execution_count": 17,
   "id": "fc19af64",
   "metadata": {},
   "outputs": [],
   "source": [
    "# Drop rows with NaN values only in specific columns\n",
    "Stacked_DF = Stacked_DF.dropna(subset=['end_station_name'])"
   ]
  },
  {
   "cell_type": "code",
   "execution_count": 18,
   "id": "bd42b712",
   "metadata": {},
   "outputs": [
    {
     "data": {
      "text/plain": [
       "(6927165, 15)"
      ]
     },
     "execution_count": 18,
     "metadata": {},
     "output_type": "execute_result"
    }
   ],
   "source": [
    "Stacked_DF.shape"
   ]
  },
  {
   "cell_type": "markdown",
   "id": "840f2d4e",
   "metadata": {},
   "source": [
    "#### Droping null Values "
   ]
  },
  {
   "cell_type": "code",
   "execution_count": 19,
   "id": "b38cddcd",
   "metadata": {},
   "outputs": [],
   "source": [
    "# # Drop rows with NaN values only in specific columns\n",
    "# Stacked_DF = Stacked_DF.dropna(subset=['start_station_id', 'end_station_id'])"
   ]
  },
  {
   "cell_type": "markdown",
   "id": "c914204f",
   "metadata": {},
   "source": [
    "#### Changing Data Type"
   ]
  },
  {
   "cell_type": "code",
   "execution_count": 20,
   "id": "0a4b0c12",
   "metadata": {},
   "outputs": [],
   "source": [
    "# Convert the 'Column1' data type from float to string\n",
    "Stacked_DF['start_station_id'] = (Stacked_DF['start_station_id'].astype(int)).astype(str)\n",
    "Stacked_DF['end_station_id'] = (Stacked_DF['end_station_id'].astype(int)).astype(str)"
   ]
  },
  {
   "cell_type": "markdown",
   "id": "b818d96d",
   "metadata": {},
   "source": [
    "#### Adding New Column for Merging"
   ]
  },
  {
   "cell_type": "code",
   "execution_count": 23,
   "id": "bc4dcf2d",
   "metadata": {},
   "outputs": [],
   "source": [
    "Stacked_DF['StationID_YearHour'] = Stacked_DF['start_station_id'] + \"_\" + Stacked_DF['Year'].astype(str) + \"_\" + Stacked_DF['Hour_(Starting)'].astype(str)"
   ]
  },
  {
   "cell_type": "code",
   "execution_count": 24,
   "id": "5e67ac75",
   "metadata": {},
   "outputs": [],
   "source": [
    "Stacked_DF['End_StationID_YearHour'] = Stacked_DF['end_station_id'] + \"_\" + Stacked_DF['Year'].astype(str) + \"_\" + Stacked_DF['Hour_(Starting)'].astype(str)"
   ]
  },
  {
   "cell_type": "code",
   "execution_count": 25,
   "id": "a6e09a8d",
   "metadata": {},
   "outputs": [
    {
     "data": {
      "text/html": [
       "<div>\n",
       "<style scoped>\n",
       "    .dataframe tbody tr th:only-of-type {\n",
       "        vertical-align: middle;\n",
       "    }\n",
       "\n",
       "    .dataframe tbody tr th {\n",
       "        vertical-align: top;\n",
       "    }\n",
       "\n",
       "    .dataframe thead th {\n",
       "        text-align: right;\n",
       "    }\n",
       "</style>\n",
       "<table border=\"1\" class=\"dataframe\">\n",
       "  <thead>\n",
       "    <tr style=\"text-align: right;\">\n",
       "      <th></th>\n",
       "      <th>ride_id</th>\n",
       "      <th>rideable_type</th>\n",
       "      <th>started_at</th>\n",
       "      <th>ended_at</th>\n",
       "      <th>start_station_name</th>\n",
       "      <th>start_station_id</th>\n",
       "      <th>end_station_name</th>\n",
       "      <th>end_station_id</th>\n",
       "      <th>start_lat</th>\n",
       "      <th>start_lng</th>\n",
       "      <th>end_lat</th>\n",
       "      <th>end_lng</th>\n",
       "      <th>member_casual</th>\n",
       "      <th>Hour_(Starting)</th>\n",
       "      <th>Year</th>\n",
       "      <th>StationID_YearHour</th>\n",
       "      <th>End_StationID_YearHour</th>\n",
       "    </tr>\n",
       "  </thead>\n",
       "  <tbody>\n",
       "    <tr>\n",
       "      <th>0</th>\n",
       "      <td>FF02EE3AE115F951</td>\n",
       "      <td>classic_bike</td>\n",
       "      <td>2021-07-04 21:57:56</td>\n",
       "      <td>2021-07-04 22:00:43</td>\n",
       "      <td>8th &amp; K St NE</td>\n",
       "      <td>31660</td>\n",
       "      <td>6th &amp; K St NE</td>\n",
       "      <td>31645</td>\n",
       "      <td>38.902732</td>\n",
       "      <td>-76.99515</td>\n",
       "      <td>38.902932</td>\n",
       "      <td>-76.998405</td>\n",
       "      <td>member</td>\n",
       "      <td>21</td>\n",
       "      <td>2021</td>\n",
       "      <td>31660_2021_21</td>\n",
       "      <td>31645_2021_21</td>\n",
       "    </tr>\n",
       "    <tr>\n",
       "      <th>1</th>\n",
       "      <td>EAD3303AA5518C14</td>\n",
       "      <td>classic_bike</td>\n",
       "      <td>2021-07-24 16:26:54</td>\n",
       "      <td>2021-07-24 16:44:57</td>\n",
       "      <td>8th &amp; K St NE</td>\n",
       "      <td>31660</td>\n",
       "      <td>10th &amp; U St NW</td>\n",
       "      <td>31111</td>\n",
       "      <td>38.902732</td>\n",
       "      <td>-76.99515</td>\n",
       "      <td>38.917200</td>\n",
       "      <td>-77.025900</td>\n",
       "      <td>member</td>\n",
       "      <td>16</td>\n",
       "      <td>2021</td>\n",
       "      <td>31660_2021_16</td>\n",
       "      <td>31111_2021_16</td>\n",
       "    </tr>\n",
       "    <tr>\n",
       "      <th>2</th>\n",
       "      <td>4CAAF169950650A7</td>\n",
       "      <td>classic_bike</td>\n",
       "      <td>2021-07-17 21:00:02</td>\n",
       "      <td>2021-07-17 21:21:27</td>\n",
       "      <td>8th &amp; K St NE</td>\n",
       "      <td>31660</td>\n",
       "      <td>10th &amp; U St NW</td>\n",
       "      <td>31111</td>\n",
       "      <td>38.902732</td>\n",
       "      <td>-76.99515</td>\n",
       "      <td>38.917200</td>\n",
       "      <td>-77.025900</td>\n",
       "      <td>member</td>\n",
       "      <td>21</td>\n",
       "      <td>2021</td>\n",
       "      <td>31660_2021_21</td>\n",
       "      <td>31111_2021_21</td>\n",
       "    </tr>\n",
       "  </tbody>\n",
       "</table>\n",
       "</div>"
      ],
      "text/plain": [
       "            ride_id rideable_type          started_at            ended_at  \\\n",
       "0  FF02EE3AE115F951  classic_bike 2021-07-04 21:57:56 2021-07-04 22:00:43   \n",
       "1  EAD3303AA5518C14  classic_bike 2021-07-24 16:26:54 2021-07-24 16:44:57   \n",
       "2  4CAAF169950650A7  classic_bike 2021-07-17 21:00:02 2021-07-17 21:21:27   \n",
       "\n",
       "  start_station_name start_station_id end_station_name end_station_id  \\\n",
       "0      8th & K St NE            31660    6th & K St NE          31645   \n",
       "1      8th & K St NE            31660   10th & U St NW          31111   \n",
       "2      8th & K St NE            31660   10th & U St NW          31111   \n",
       "\n",
       "   start_lat  start_lng    end_lat    end_lng member_casual  Hour_(Starting)  \\\n",
       "0  38.902732  -76.99515  38.902932 -76.998405        member               21   \n",
       "1  38.902732  -76.99515  38.917200 -77.025900        member               16   \n",
       "2  38.902732  -76.99515  38.917200 -77.025900        member               21   \n",
       "\n",
       "   Year StationID_YearHour End_StationID_YearHour  \n",
       "0  2021      31660_2021_21          31645_2021_21  \n",
       "1  2021      31660_2021_16          31111_2021_16  \n",
       "2  2021      31660_2021_21          31111_2021_21  "
      ]
     },
     "execution_count": 25,
     "metadata": {},
     "output_type": "execute_result"
    }
   ],
   "source": [
    "Stacked_DF.head(3)"
   ]
  },
  {
   "cell_type": "code",
   "execution_count": 51,
   "id": "41004aad",
   "metadata": {},
   "outputs": [
    {
     "data": {
      "text/plain": [
       "627703"
      ]
     },
     "execution_count": 51,
     "metadata": {},
     "output_type": "execute_result"
    }
   ],
   "source": [
    "# filt1 = (Stacked_DF['started_at'].dt.month >= 3) & (Stacked_DF['started_at'].dt.month <= 5)\n",
    "# filt = (Stacked_DF['started_at'].dt.month >= 6) & (Stacked_DF['started_at'].dt.month <= 8)\n",
    "# filt = (Stacked_DF['started_at'].dt.month >= 9) & (Stacked_DF['started_at'].dt.month <= 11)\n",
    "filt = (Stacked_DF['started_at'].dt.month <= 2)\n",
    "Stacked_DF.loc[filt,'started_at'].count()\n"
   ]
  },
  {
   "cell_type": "code",
   "execution_count": 53,
   "id": "538aa088",
   "metadata": {},
   "outputs": [
    {
     "data": {
      "text/plain": [
       "335680"
      ]
     },
     "execution_count": 53,
     "metadata": {},
     "output_type": "execute_result"
    }
   ],
   "source": [
    "filt =  (Stacked_DF['started_at'].dt.month == 12)\n",
    "Stacked_DF.loc[filt,'started_at'].count()"
   ]
  },
  {
   "cell_type": "code",
   "execution_count": 55,
   "id": "4a611db9",
   "metadata": {},
   "outputs": [
    {
     "data": {
      "text/plain": [
       "1733432"
      ]
     },
     "execution_count": 55,
     "metadata": {},
     "output_type": "execute_result"
    }
   ],
   "source": [
    "filt = (Stacked_DF['started_at'].dt.month >= 9) & (Stacked_DF['started_at'].dt.month <= 11)\n",
    "Stacked_DF.loc[filt,'started_at'].count()"
   ]
  },
  {
   "cell_type": "code",
   "execution_count": 56,
   "id": "006ae1b8",
   "metadata": {},
   "outputs": [
    {
     "data": {
      "text/plain": [
       "0        2021-07-04 21:57:56\n",
       "1        2021-07-24 16:26:54\n",
       "2        2021-07-17 21:00:02\n",
       "3        2021-07-14 15:51:33\n",
       "4        2021-07-10 11:26:20\n",
       "                 ...        \n",
       "466417   2023-07-10 08:59:28\n",
       "466418   2023-07-23 00:14:48\n",
       "466419   2023-07-11 13:03:19\n",
       "466420   2023-07-09 18:48:52\n",
       "466421   2023-07-06 07:36:53\n",
       "Name: started_at, Length: 2401452, dtype: datetime64[ns]"
      ]
     },
     "execution_count": 56,
     "metadata": {},
     "output_type": "execute_result"
    }
   ],
   "source": [
    "filt = (Stacked_DF['started_at'].dt.month > 5) & (Stacked_DF['started_at'].dt.month <= 8)\n",
    "Stacked_DF.loc[filt,'started_at']"
   ]
  },
  {
   "cell_type": "code",
   "execution_count": 67,
   "id": "230ae009",
   "metadata": {},
   "outputs": [
    {
     "data": {
      "text/plain": [
       "691013"
      ]
     },
     "execution_count": 67,
     "metadata": {},
     "output_type": "execute_result"
    }
   ],
   "source": [
    "filt = (Stacked_DF['started_at'].dt.month >= 3) &  (Stacked_DF['started_at'].dt.month == 5)\n",
    "Stacked_DF.loc[filt,'started_at'].count()"
   ]
  },
  {
   "cell_type": "code",
   "execution_count": 68,
   "id": "bffa5714",
   "metadata": {},
   "outputs": [
    {
     "data": {
      "text/plain": [
       "5789280"
      ]
     },
     "execution_count": 68,
     "metadata": {},
     "output_type": "execute_result"
    }
   ],
   "source": [
    "627703 + 335680 + 1733432 + 2401452 + 691013"
   ]
  },
  {
   "cell_type": "code",
   "execution_count": 69,
   "id": "b999bdd1",
   "metadata": {},
   "outputs": [
    {
     "data": {
      "text/plain": [
       "1137885"
      ]
     },
     "execution_count": 69,
     "metadata": {},
     "output_type": "execute_result"
    }
   ],
   "source": [
    "Stacked_DF.shape[0] - 5789280"
   ]
  },
  {
   "cell_type": "code",
   "execution_count": 35,
   "id": "8fe75393",
   "metadata": {},
   "outputs": [],
   "source": [
    "Stacked_DF.to_csv('E:/ITC Twente/Quarter 05 September 2023/00 GeoData Visualization/4_BikeShareData/00_Stacked_Dataframe.csv', index=False)"
   ]
  },
  {
   "cell_type": "code",
   "execution_count": null,
   "id": "1d186d36",
   "metadata": {},
   "outputs": [],
   "source": []
  }
 ],
 "metadata": {
  "kernelspec": {
   "display_name": "Python",
   "language": "python",
   "name": "python3"
  },
  "language_info": {
   "codemirror_mode": {
    "name": "ipython",
    "version": 3
   },
   "file_extension": ".py",
   "mimetype": "text/x-python",
   "name": "python",
   "nbconvert_exporter": "python",
   "pygments_lexer": "ipython3",
   "version": "3.8.10"
  }
 },
 "nbformat": 4,
 "nbformat_minor": 5
}
